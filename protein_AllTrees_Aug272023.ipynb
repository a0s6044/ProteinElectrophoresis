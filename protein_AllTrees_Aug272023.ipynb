{
 "cells": [
  {
   "cell_type": "code",
   "execution_count": 10,
   "id": "74f1314c",
   "metadata": {},
   "outputs": [
    {
     "name": "stdout",
     "output_type": "stream",
     "text": [
      "\u001b[33mWARNING: Retrying (Retry(total=4, connect=None, read=None, redirect=None, status=None)) after connection broken by 'ReadTimeoutError(\"HTTPSConnectionPool(host='pypi.org', port=443): Read timed out. (read timeout=15)\")': /simple/fast-ml/\u001b[0m\n",
      "\u001b[33mWARNING: Retrying (Retry(total=3, connect=None, read=None, redirect=None, status=None)) after connection broken by 'ReadTimeoutError(\"HTTPSConnectionPool(host='pypi.org', port=443): Read timed out. (read timeout=15)\")': /simple/fast-ml/\u001b[0m\n"
     ]
    }
   ],
   "source": [
    "# install fast_ml library\n",
    "! pip install fast_ml --quiet"
   ]
  },
  {
   "cell_type": "code",
   "execution_count": 1,
   "id": "cdeba524",
   "metadata": {},
   "outputs": [],
   "source": [
    "import pandas as pd\n",
    "import numpy as np"
   ]
  },
  {
   "cell_type": "code",
   "execution_count": 2,
   "id": "20898e34",
   "metadata": {},
   "outputs": [],
   "source": [
    "# Get a Regressor first! \n",
    "\n",
    "# Explicitly require this experimental feature\n",
    "from sklearn.experimental import enable_hist_gradient_boosting\n",
    "#from sklearn.experimental import \n",
    "\n",
    "# Now you can import normally from ensemble\n",
    "from sklearn.ensemble import HistGradientBoostingRegressor\n",
    "from sklearn.ensemble import AdaBoostRegressor\n",
    "from sklearn.ensemble import AdaBoostClassifier\n",
    "from sklearn.ensemble import GradientBoostingRegressor\n",
    "from sklearn.ensemble import ExtraTreesRegressor\n",
    "from sklearn.ensemble import ExtraTreesClassifier\n",
    "from sklearn.ensemble import BaggingRegressor\n",
    "#from sklearn.ensemble import \n",
    "from sklearn.ensemble import RandomForestRegressor\n",
    "from sklearn.ensemble import RandomForestClassifier\n",
    "from sklearn.linear_model import SGDClassifier \n",
    "\n",
    "\n",
    "from lightgbm import LGBMRegressor\n",
    "from lightgbm import LGBMClassifier\n",
    "from xgboost import XGBRegressor\n",
    "from xgboost import XGBClassifier\n",
    "from sklearn.multiclass import OneVsRestClassifier\n",
    "\n",
    "import itertools"
   ]
  },
  {
   "cell_type": "code",
   "execution_count": 3,
   "id": "9fdad874",
   "metadata": {},
   "outputs": [],
   "source": [
    "from sklearn.model_selection import train_test_split\n",
    "from sklearn.metrics import classification_report, confusion_matrix\n",
    "from sklearn.metrics import mean_squared_error"
   ]
  },
  {
   "cell_type": "code",
   "execution_count": 4,
   "id": "cf3cc7ba",
   "metadata": {},
   "outputs": [
    {
     "name": "stderr",
     "output_type": "stream",
     "text": [
      "/usr/local/lib/python3.8/dist-packages/sklearn/utils/deprecation.py:143: FutureWarning: The sklearn.utils.testing module is  deprecated in version 0.22 and will be removed in version 0.24. The corresponding classes / functions should instead be imported from sklearn.utils. Anything that cannot be imported from sklearn.utils is now part of the private API.\n",
      "  warnings.warn(message, FutureWarning)\n"
     ]
    }
   ],
   "source": [
    "from lazypredict.Supervised import LazyClassifier, LazyRegressor"
   ]
  },
  {
   "cell_type": "code",
   "execution_count": 5,
   "id": "a9c3b472",
   "metadata": {},
   "outputs": [],
   "source": [
    "# evaluate a logistic regression model using k-fold cross-validation\n",
    "from numpy import mean\n",
    "from numpy import std\n",
    "from sklearn.datasets import make_classification\n",
    "from sklearn.model_selection import KFold\n",
    "from sklearn.model_selection import cross_val_score\n",
    "from sklearn.linear_model import LogisticRegression"
   ]
  },
  {
   "cell_type": "code",
   "execution_count": 11,
   "id": "56fe7d59",
   "metadata": {},
   "outputs": [],
   "source": [
    "from fast_ml.model_development import train_valid_test_split"
   ]
  },
  {
   "cell_type": "markdown",
   "id": "a8dee022",
   "metadata": {},
   "source": [
    "## Reading the saved data "
   ]
  },
  {
   "cell_type": "code",
   "execution_count": 6,
   "id": "3e8f4137",
   "metadata": {},
   "outputs": [],
   "source": [
    "# loading\n",
    "full_df = pd.read_pickle('full_df_saved27Aug2023')"
   ]
  },
  {
   "cell_type": "code",
   "execution_count": null,
   "id": "b125e9fc",
   "metadata": {},
   "outputs": [],
   "source": [
    "import matplotlib.pyplot as plt# Pie chart\n",
    "labels = list(full_df.columns[:5]) #['Frogs', 'Hogs', 'Dogs', 'Logs']\n",
    "sizes = [sum(full_df.iloc[:,i]) for i in range(5)]# [2018, 9234, 18, 1529, 16]#[15, 30, 45, 10]#colors\n",
    "colors = ['#ff9999','#66b3ff','#99ff99','#ffcc99','#ffb3e6']#['red','#66b3ff','#99ff99','brown']#,'pink','brown']\n",
    " \n",
    "fig1,ax1 = plt.subplots(figsize=(6,6), facecolor=\"w\", dpi=200)#1200)\n",
    "#fig1, ax1 = plt.subplots()\n",
    "patches, texts, autotexts = ax1.pie(sizes, colors = colors, labels=labels, autopct='%1.1f%%', startangle=90)\n",
    "for text in texts:\n",
    "    text.set_color('black')#'grey')\n",
    "for autotext in autotexts:\n",
    "    autotext.set_color('black')#'grey')# Equal aspect ratio ensures that pie is drawn as a circle\n",
    "ax1.axis('equal')  \n",
    "plt.tight_layout()\n",
    "plt.show()"
   ]
  },
  {
   "cell_type": "code",
   "execution_count": 7,
   "id": "cf96eacb",
   "metadata": {},
   "outputs": [],
   "source": [
    "def split_dataframe(dfin, ratio):\n",
    "    training_data = dfin.sample(frac=ratio, random_state=25)\n",
    "    testing_data = dfin.drop(training_data.index)\n",
    "    \n",
    "    return training_data, testing_data"
   ]
  },
  {
   "cell_type": "code",
   "execution_count": 8,
   "id": "9bea8384",
   "metadata": {},
   "outputs": [],
   "source": [
    "def one_hot(i, vec_len):\n",
    "  vector = [0]*vec_len\n",
    "  vector[i] = 1\n",
    "  return vector\n",
    "\n",
    "def evaluate(y,y_hat,labels):\n",
    "  print(classification_report(y,y_hat))\n",
    "  cm = confusion_matrix(y,y_hat)\n",
    "  cm = cm.astype('float') / cm.sum(axis=1)[:, np.newaxis]\n",
    "  cmat = pd.DataFrame(cm)\n",
    "  cmat.columns = labels\n",
    "  #cmat.set_index([pd.Index(labels, \"\")],inplace=True)\n",
    "  sns.heatmap(cmat,cmap=\"YlGnBu\", annot=True)\n",
    "  plt.title(\"Confusion Matrix\")\n",
    "\n",
    "def format_prediction(predicted_outputs):\n",
    "  predicted_image_array = np.zeros_like(image_array)\n",
    "  i = 0\n",
    "  for row,pixels in enumerate(predicted_image_array):\n",
    "    for column in range(len(pixels)):\n",
    "      p = np.argmax(predicted_outputs[i])\n",
    "      predicted_image_array[row][column] = [WHITE,RED,BLUE][p]\n",
    "      i += 1\n",
    "  return predicted_image_array"
   ]
  },
  {
   "cell_type": "code",
   "execution_count": 15,
   "id": "6d5545cc",
   "metadata": {},
   "outputs": [],
   "source": [
    "training_inputs = full_df.iloc[:,5:]\n",
    "training_outputs_labels = full_df.iloc[:,:5]\n",
    "#xgb_classifier.fit(training_inputs, training_outputs_labels)\n",
    "#xgb_predictions_labels = xgb_classifier.predict(training_inputs)"
   ]
  },
  {
   "cell_type": "code",
   "execution_count": null,
   "id": "a8d70606",
   "metadata": {},
   "outputs": [],
   "source": []
  },
  {
   "cell_type": "code",
   "execution_count": 9,
   "id": "859d5480",
   "metadata": {},
   "outputs": [],
   "source": [
    "\n",
    "X = full_df.drop(columns=['Healthy','M-KOMPG','M-KOMPD','M-KOMPA','M-KOMPM'])\n",
    "y = full_df[{'Healthy','M-KOMPG','M-KOMPD','M-KOMPA','M-KOMPM'}]\n",
    "cat_labels = np.where(y==1)[1]\n",
    "y = pd.DataFrame(cat_labels,columns=['Result'])\n",
    "\n",
    "\n",
    "#M = 000\n",
    "#X = X.iloc[:M]\n",
    "#y = y.iloc[:M]\n",
    "\n",
    "# Creating train test split\n",
    "# Call train_test_split on the data and capture the results\n",
    "#X_train, X_test, y_train, y_test = train_test_split(X, y, random_state=3,test_size=0.25)\n",
    "\n",
    "# train, test, validation split\n",
    "X_train, y_train, X_valid, y_valid, X_test, y_test = train_valid_test_split(df, \n",
    "                                                                            target = 'Result', \n",
    "                                                                            train_size=0.6, \n",
    "                                                                            valid_size=0.2, \n",
    "                                                                            test_size=0.2)\n",
    "\n",
    "# reset index\n",
    "for data in [X_train, y_train, X_valid, y_valid, X_test, y_test]:\n",
    "    data.reset_index(drop=True, inplace=True)"
   ]
  },
  {
   "cell_type": "code",
   "execution_count": 155,
   "id": "b3fe93df",
   "metadata": {},
   "outputs": [
    {
     "data": {
      "text/html": [
       "<div>\n",
       "<style scoped>\n",
       "    .dataframe tbody tr th:only-of-type {\n",
       "        vertical-align: middle;\n",
       "    }\n",
       "\n",
       "    .dataframe tbody tr th {\n",
       "        vertical-align: top;\n",
       "    }\n",
       "\n",
       "    .dataframe thead th {\n",
       "        text-align: right;\n",
       "    }\n",
       "</style>\n",
       "<table border=\"1\" class=\"dataframe\">\n",
       "  <thead>\n",
       "    <tr style=\"text-align: right;\">\n",
       "      <th></th>\n",
       "      <th>Result</th>\n",
       "    </tr>\n",
       "  </thead>\n",
       "  <tbody>\n",
       "    <tr>\n",
       "      <th>3264</th>\n",
       "      <td>0</td>\n",
       "    </tr>\n",
       "    <tr>\n",
       "      <th>34864</th>\n",
       "      <td>0</td>\n",
       "    </tr>\n",
       "    <tr>\n",
       "      <th>33490</th>\n",
       "      <td>0</td>\n",
       "    </tr>\n",
       "    <tr>\n",
       "      <th>18925</th>\n",
       "      <td>1</td>\n",
       "    </tr>\n",
       "    <tr>\n",
       "      <th>8534</th>\n",
       "      <td>0</td>\n",
       "    </tr>\n",
       "    <tr>\n",
       "      <th>8834</th>\n",
       "      <td>0</td>\n",
       "    </tr>\n",
       "    <tr>\n",
       "      <th>41223</th>\n",
       "      <td>0</td>\n",
       "    </tr>\n",
       "    <tr>\n",
       "      <th>20170</th>\n",
       "      <td>0</td>\n",
       "    </tr>\n",
       "    <tr>\n",
       "      <th>60978</th>\n",
       "      <td>0</td>\n",
       "    </tr>\n",
       "    <tr>\n",
       "      <th>17651</th>\n",
       "      <td>0</td>\n",
       "    </tr>\n",
       "  </tbody>\n",
       "</table>\n",
       "</div>"
      ],
      "text/plain": [
       "       Result\n",
       "3264        0\n",
       "34864       0\n",
       "33490       0\n",
       "18925       1\n",
       "8534        0\n",
       "8834        0\n",
       "41223       0\n",
       "20170       0\n",
       "60978       0\n",
       "17651       0"
      ]
     },
     "execution_count": 155,
     "metadata": {},
     "output_type": "execute_result"
    }
   ],
   "source": [
    "y_train[:10]"
   ]
  },
  {
   "cell_type": "code",
   "execution_count": 160,
   "id": "b444e6eb",
   "metadata": {},
   "outputs": [
    {
     "name": "stderr",
     "output_type": "stream",
     "text": [
      "  3%|█▌                                          | 1/29 [00:15<07:07, 15.27s/it]"
     ]
    },
    {
     "name": "stdout",
     "output_type": "stream",
     "text": [
      "ROC AUC couldn't be calculated for AdaBoostClassifier\n",
      "multi_class must be in ('ovo', 'ovr')\n"
     ]
    },
    {
     "name": "stderr",
     "output_type": "stream",
     "text": [
      "\r",
      "  7%|███                                         | 2/29 [01:50<27:57, 62.11s/it]"
     ]
    },
    {
     "name": "stdout",
     "output_type": "stream",
     "text": [
      "ROC AUC couldn't be calculated for BaggingClassifier\n",
      "multi_class must be in ('ovo', 'ovr')\n"
     ]
    },
    {
     "name": "stderr",
     "output_type": "stream",
     "text": [
      "\r",
      " 10%|████▌                                       | 3/29 [01:50<14:43, 33.98s/it]"
     ]
    },
    {
     "name": "stdout",
     "output_type": "stream",
     "text": [
      "ROC AUC couldn't be calculated for BernoulliNB\n",
      "multi_class must be in ('ovo', 'ovr')\n"
     ]
    },
    {
     "name": "stderr",
     "output_type": "stream",
     "text": [
      " 17%|███████▍                                   | 5/29 [08:05<43:06, 107.77s/it]"
     ]
    },
    {
     "name": "stdout",
     "output_type": "stream",
     "text": [
      "ROC AUC couldn't be calculated for CalibratedClassifierCV\n",
      "multi_class must be in ('ovo', 'ovr')\n",
      "CategoricalNB model failed to execute\n",
      "Negative values in data passed to CategoricalNB (input X)\n"
     ]
    },
    {
     "name": "stderr",
     "output_type": "stream",
     "text": [
      "\r",
      " 21%|█████████                                   | 6/29 [08:20<29:17, 76.42s/it]"
     ]
    },
    {
     "name": "stdout",
     "output_type": "stream",
     "text": [
      "ROC AUC couldn't be calculated for DecisionTreeClassifier\n",
      "multi_class must be in ('ovo', 'ovr')\n"
     ]
    },
    {
     "name": "stderr",
     "output_type": "stream",
     "text": [
      "\r",
      " 24%|██████████▌                                 | 7/29 [08:21<18:53, 51.52s/it]"
     ]
    },
    {
     "name": "stdout",
     "output_type": "stream",
     "text": [
      "ROC AUC couldn't be calculated for DummyClassifier\n",
      "multi_class must be in ('ovo', 'ovr')\n"
     ]
    },
    {
     "name": "stderr",
     "output_type": "stream",
     "text": [
      "\r",
      " 28%|████████████▏                               | 8/29 [08:21<12:19, 35.22s/it]"
     ]
    },
    {
     "name": "stdout",
     "output_type": "stream",
     "text": [
      "ROC AUC couldn't be calculated for ExtraTreeClassifier\n",
      "multi_class must be in ('ovo', 'ovr')\n"
     ]
    },
    {
     "name": "stderr",
     "output_type": "stream",
     "text": [
      "\r",
      " 31%|█████████████▋                              | 9/29 [08:28<08:47, 26.39s/it]"
     ]
    },
    {
     "name": "stdout",
     "output_type": "stream",
     "text": [
      "ROC AUC couldn't be calculated for ExtraTreesClassifier\n",
      "multi_class must be in ('ovo', 'ovr')\n"
     ]
    },
    {
     "name": "stderr",
     "output_type": "stream",
     "text": [
      "\r",
      " 34%|██████████████▊                            | 10/29 [08:28<05:49, 18.38s/it]"
     ]
    },
    {
     "name": "stdout",
     "output_type": "stream",
     "text": [
      "ROC AUC couldn't be calculated for GaussianNB\n",
      "multi_class must be in ('ovo', 'ovr')\n"
     ]
    },
    {
     "name": "stderr",
     "output_type": "stream",
     "text": [
      "\r",
      " 38%|████████████████▎                          | 11/29 [10:25<14:29, 48.28s/it]"
     ]
    },
    {
     "name": "stdout",
     "output_type": "stream",
     "text": [
      "ROC AUC couldn't be calculated for KNeighborsClassifier\n",
      "multi_class must be in ('ovo', 'ovr')\n"
     ]
    },
    {
     "name": "stderr",
     "output_type": "stream",
     "text": [
      "\r",
      " 41%|█████████████████▊                         | 12/29 [10:38<10:40, 37.68s/it]"
     ]
    },
    {
     "name": "stdout",
     "output_type": "stream",
     "text": [
      "ROC AUC couldn't be calculated for LabelPropagation\n",
      "multi_class must be in ('ovo', 'ovr')\n"
     ]
    },
    {
     "name": "stderr",
     "output_type": "stream",
     "text": [
      "\r",
      " 45%|███████████████████▎                       | 13/29 [10:54<08:19, 31.24s/it]"
     ]
    },
    {
     "name": "stdout",
     "output_type": "stream",
     "text": [
      "ROC AUC couldn't be calculated for LabelSpreading\n",
      "multi_class must be in ('ovo', 'ovr')\n"
     ]
    },
    {
     "name": "stderr",
     "output_type": "stream",
     "text": [
      "\r",
      " 48%|████████████████████▊                      | 14/29 [10:55<05:31, 22.13s/it]"
     ]
    },
    {
     "name": "stdout",
     "output_type": "stream",
     "text": [
      "ROC AUC couldn't be calculated for LinearDiscriminantAnalysis\n",
      "multi_class must be in ('ovo', 'ovr')\n"
     ]
    },
    {
     "name": "stderr",
     "output_type": "stream",
     "text": [
      "\r",
      " 52%|██████████████████████▏                    | 15/29 [12:30<10:13, 43.80s/it]"
     ]
    },
    {
     "name": "stdout",
     "output_type": "stream",
     "text": [
      "ROC AUC couldn't be calculated for LinearSVC\n",
      "multi_class must be in ('ovo', 'ovr')\n"
     ]
    },
    {
     "name": "stderr",
     "output_type": "stream",
     "text": [
      "\r",
      " 55%|███████████████████████▋                   | 16/29 [12:31<06:44, 31.08s/it]"
     ]
    },
    {
     "name": "stdout",
     "output_type": "stream",
     "text": [
      "ROC AUC couldn't be calculated for LogisticRegression\n",
      "multi_class must be in ('ovo', 'ovr')\n"
     ]
    },
    {
     "name": "stderr",
     "output_type": "stream",
     "text": [
      " 62%|██████████████████████████▋                | 18/29 [12:32<02:48, 15.34s/it]"
     ]
    },
    {
     "name": "stdout",
     "output_type": "stream",
     "text": [
      "ROC AUC couldn't be calculated for NearestCentroid\n",
      "multi_class must be in ('ovo', 'ovr')\n",
      "NuSVC model failed to execute\n",
      "specified nu is infeasible\n"
     ]
    },
    {
     "name": "stderr",
     "output_type": "stream",
     "text": [
      "\r",
      " 66%|████████████████████████████▏              | 19/29 [12:32<01:49, 10.99s/it]"
     ]
    },
    {
     "name": "stdout",
     "output_type": "stream",
     "text": [
      "ROC AUC couldn't be calculated for PassiveAggressiveClassifier\n",
      "multi_class must be in ('ovo', 'ovr')\n"
     ]
    },
    {
     "name": "stderr",
     "output_type": "stream",
     "text": [
      "\r",
      " 69%|█████████████████████████████▋             | 20/29 [12:33<01:11,  7.89s/it]"
     ]
    },
    {
     "name": "stdout",
     "output_type": "stream",
     "text": [
      "ROC AUC couldn't be calculated for Perceptron\n",
      "multi_class must be in ('ovo', 'ovr')\n"
     ]
    },
    {
     "name": "stderr",
     "output_type": "stream",
     "text": [
      "\r",
      " 72%|███████████████████████████████▏           | 21/29 [12:34<00:46,  5.85s/it]"
     ]
    },
    {
     "name": "stdout",
     "output_type": "stream",
     "text": [
      "ROC AUC couldn't be calculated for QuadraticDiscriminantAnalysis\n",
      "multi_class must be in ('ovo', 'ovr')\n"
     ]
    },
    {
     "name": "stderr",
     "output_type": "stream",
     "text": [
      "\r",
      " 76%|████████████████████████████████▌          | 22/29 [13:20<02:04, 17.74s/it]"
     ]
    },
    {
     "name": "stdout",
     "output_type": "stream",
     "text": [
      "ROC AUC couldn't be calculated for RandomForestClassifier\n",
      "multi_class must be in ('ovo', 'ovr')\n"
     ]
    },
    {
     "name": "stderr",
     "output_type": "stream",
     "text": [
      "\r",
      " 79%|██████████████████████████████████         | 23/29 [13:20<01:15, 12.55s/it]"
     ]
    },
    {
     "name": "stdout",
     "output_type": "stream",
     "text": [
      "ROC AUC couldn't be calculated for RidgeClassifier\n",
      "multi_class must be in ('ovo', 'ovr')\n"
     ]
    },
    {
     "name": "stderr",
     "output_type": "stream",
     "text": [
      "\r",
      " 83%|███████████████████████████████████▌       | 24/29 [13:21<00:45,  9.07s/it]"
     ]
    },
    {
     "name": "stdout",
     "output_type": "stream",
     "text": [
      "ROC AUC couldn't be calculated for RidgeClassifierCV\n",
      "multi_class must be in ('ovo', 'ovr')\n"
     ]
    },
    {
     "name": "stderr",
     "output_type": "stream",
     "text": [
      "\r",
      " 86%|█████████████████████████████████████      | 25/29 [13:31<00:36,  9.19s/it]"
     ]
    },
    {
     "name": "stdout",
     "output_type": "stream",
     "text": [
      "ROC AUC couldn't be calculated for SGDClassifier\n",
      "multi_class must be in ('ovo', 'ovr')\n"
     ]
    },
    {
     "name": "stderr",
     "output_type": "stream",
     "text": [
      "\r",
      " 90%|██████████████████████████████████████▌    | 26/29 [14:25<01:08, 22.70s/it]"
     ]
    },
    {
     "name": "stdout",
     "output_type": "stream",
     "text": [
      "ROC AUC couldn't be calculated for SVC\n",
      "multi_class must be in ('ovo', 'ovr')\n",
      "StackingClassifier model failed to execute\n",
      "__init__() missing 1 required positional argument: 'estimators'\n"
     ]
    },
    {
     "name": "stderr",
     "output_type": "stream",
     "text": [
      "\r",
      " 97%|█████████████████████████████████████████▌ | 28/29 [14:30<00:13, 13.40s/it]"
     ]
    },
    {
     "name": "stdout",
     "output_type": "stream",
     "text": [
      "ROC AUC couldn't be calculated for XGBClassifier\n",
      "multi_class must be in ('ovo', 'ovr')\n"
     ]
    },
    {
     "name": "stderr",
     "output_type": "stream",
     "text": [
      "100%|███████████████████████████████████████████| 29/29 [14:34<00:00, 30.16s/it]"
     ]
    },
    {
     "name": "stdout",
     "output_type": "stream",
     "text": [
      "ROC AUC couldn't be calculated for LGBMClassifier\n",
      "multi_class must be in ('ovo', 'ovr')\n",
      "                               Accuracy  Balanced Accuracy ROC AUC  F1 Score  \\\n",
      "Model                                                                          \n",
      "ExtraTreesClassifier               0.93               0.63    None      0.92   \n",
      "RandomForestClassifier             0.93               0.63    None      0.92   \n",
      "XGBClassifier                      0.93               0.63    None      0.92   \n",
      "BaggingClassifier                  0.92               0.62    None      0.92   \n",
      "LGBMClassifier                     0.92               0.62    None      0.92   \n",
      "DecisionTreeClassifier             0.88               0.61    None      0.88   \n",
      "ExtraTreeClassifier                0.87               0.56    None      0.87   \n",
      "KNeighborsClassifier               0.89               0.54    None      0.88   \n",
      "QuadraticDiscriminantAnalysis      0.89               0.52    None      0.89   \n",
      "GaussianNB                         0.71               0.52    None      0.75   \n",
      "SVC                                0.89               0.51    None      0.87   \n",
      "PassiveAggressiveClassifier        0.80               0.44    None      0.78   \n",
      "LinearDiscriminantAnalysis         0.82               0.43    None      0.78   \n",
      "LabelPropagation                   0.83               0.41    None      0.79   \n",
      "LabelSpreading                     0.83               0.41    None      0.79   \n",
      "Perceptron                         0.74               0.39    None      0.74   \n",
      "LogisticRegression                 0.83               0.39    None      0.79   \n",
      "SGDClassifier                      0.82               0.39    None      0.78   \n",
      "NearestCentroid                    0.34               0.36    None      0.44   \n",
      "AdaBoostClassifier                 0.52               0.36    None      0.58   \n",
      "LinearSVC                          0.82               0.35    None      0.76   \n",
      "RidgeClassifier                    0.81               0.32    None      0.75   \n",
      "RidgeClassifierCV                  0.81               0.32    None      0.75   \n",
      "CalibratedClassifierCV             0.81               0.31    None      0.75   \n",
      "BernoulliNB                        0.21               0.27    None      0.29   \n",
      "DummyClassifier                    0.65               0.26    None      0.65   \n",
      "\n",
      "                               Time Taken  \n",
      "Model                                      \n",
      "ExtraTreesClassifier                 6.96  \n",
      "RandomForestClassifier              45.46  \n",
      "XGBClassifier                        5.09  \n",
      "BaggingClassifier                   94.91  \n",
      "LGBMClassifier                       4.13  \n",
      "DecisionTreeClassifier              15.56  \n",
      "ExtraTreeClassifier                  0.34  \n",
      "KNeighborsClassifier               116.07  \n",
      "QuadraticDiscriminantAnalysis        1.11  \n",
      "GaussianNB                           0.45  \n",
      "SVC                                 54.20  \n",
      "PassiveAggressiveClassifier          0.88  \n",
      "LinearDiscriminantAnalysis           1.05  \n",
      "LabelPropagation                    13.44  \n",
      "LabelSpreading                      16.43  \n",
      "Perceptron                           0.66  \n",
      "LogisticRegression                   1.55  \n",
      "SGDClassifier                        9.47  \n",
      "NearestCentroid                      0.34  \n",
      "AdaBoostClassifier                  15.26  \n",
      "LinearSVC                           94.01  \n",
      "RidgeClassifier                      0.45  \n",
      "RidgeClassifierCV                    0.95  \n",
      "CalibratedClassifierCV             374.58  \n",
      "BernoulliNB                          0.50  \n",
      "DummyClassifier                      0.25  \n",
      "CPU times: user 25min 30s, sys: 6min 46s, total: 32min 17s\n",
      "Wall time: 14min 34s\n"
     ]
    },
    {
     "name": "stderr",
     "output_type": "stream",
     "text": [
      "\n"
     ]
    }
   ],
   "source": [
    "%%time\n",
    "\n",
    "reg = LazyClassifier(ignore_warnings=False, custom_metric=None)\n",
    "\n",
    "#reg = LazyRegressor(ignore_warnings=False, custom_metric=None)\n",
    "N=16500\n",
    "models, predictions = reg.fit(X_train[:N], X_test[:N], y_train[:N], y_test[:N])\n",
    "print(models)"
   ]
  },
  {
   "cell_type": "code",
   "execution_count": 159,
   "id": "44538abb",
   "metadata": {},
   "outputs": [
    {
     "name": "stderr",
     "output_type": "stream",
     "text": [
      " 21%|█████████▍                                  | 9/42 [01:50<09:42, 17.65s/it]"
     ]
    },
    {
     "name": "stdout",
     "output_type": "stream",
     "text": [
      "GammaRegressor model failed to execute\n",
      "Some value(s) of y are out of the valid range for family GammaDistribution\n"
     ]
    },
    {
     "name": "stderr",
     "output_type": "stream",
     "text": [
      " 79%|█████████████████████████████████▊         | 33/42 [06:15<01:18,  8.70s/it]"
     ]
    },
    {
     "name": "stdout",
     "output_type": "stream",
     "text": [
      "RANSACRegressor model failed to execute\n",
      "RANSAC could not find a valid consensus set. All `max_trials` iterations were skipped because each randomly chosen sub-sample failed the passing criteria. See estimator attributes for diagnostics (n_skips*).\n"
     ]
    },
    {
     "name": "stderr",
     "output_type": "stream",
     "text": [
      "100%|███████████████████████████████████████████| 42/42 [13:03<00:00, 18.65s/it]"
     ]
    },
    {
     "name": "stdout",
     "output_type": "stream",
     "text": [
      "                                  Adjusted R-Squared              R-Squared  \\\n",
      "Model                                                                         \n",
      "ExtraTreesRegressor                             0.59                   0.60   \n",
      "RandomForestRegressor                           0.55                   0.56   \n",
      "LGBMRegressor                                   0.53                   0.54   \n",
      "HistGradientBoostingRegressor                   0.52                   0.53   \n",
      "BaggingRegressor                                0.49                   0.51   \n",
      "XGBRegressor                                    0.45                   0.47   \n",
      "MLPRegressor                                    0.43                   0.44   \n",
      "GradientBoostingRegressor                       0.39                   0.41   \n",
      "KNeighborsRegressor                             0.38                   0.40   \n",
      "SVR                                             0.36                   0.37   \n",
      "NuSVR                                           0.33                   0.35   \n",
      "OrthogonalMatchingPursuitCV                     0.13                   0.16   \n",
      "LassoLarsIC                                     0.13                   0.16   \n",
      "OrthogonalMatchingPursuit                       0.13                   0.16   \n",
      "LassoCV                                         0.13                   0.16   \n",
      "ElasticNetCV                                    0.13                   0.16   \n",
      "LassoLarsCV                                     0.13                   0.16   \n",
      "BayesianRidge                                   0.13                   0.15   \n",
      "RidgeCV                                         0.12                   0.14   \n",
      "GeneralizedLinearRegressor                      0.11                   0.14   \n",
      "TweedieRegressor                                0.11                   0.14   \n",
      "Ridge                                           0.11                   0.13   \n",
      "TransformedTargetRegressor                      0.09                   0.12   \n",
      "LinearRegression                                0.09                   0.12   \n",
      "PoissonRegressor                                0.09                   0.12   \n",
      "ExtraTreeRegressor                              0.07                   0.09   \n",
      "DecisionTreeRegressor                           0.02                   0.05   \n",
      "LassoLars                                      -0.03                  -0.00   \n",
      "Lasso                                          -0.03                  -0.00   \n",
      "LarsCV                                         -0.03                  -0.00   \n",
      "ElasticNet                                     -0.03                  -0.00   \n",
      "DummyRegressor                                 -0.03                  -0.00   \n",
      "LinearSVR                                      -0.07                  -0.04   \n",
      "KernelRidge                                    -0.08                  -0.05   \n",
      "HuberRegressor                                 -0.08                  -0.05   \n",
      "GaussianProcessRegressor                       -0.21                  -0.17   \n",
      "AdaBoostRegressor                              -0.35                  -0.31   \n",
      "PassiveAggressiveRegressor                     -0.52                  -0.47   \n",
      "Lars                                -346089874225.74       -335706139625.48   \n",
      "SGDRegressor                  -163701860212026240.00 -158790313250969344.00   \n",
      "\n",
      "                                      RMSE  Time Taken  \n",
      "Model                                                   \n",
      "ExtraTreesRegressor                   0.53       46.19  \n",
      "RandomForestRegressor                 0.56      380.05  \n",
      "LGBMRegressor                         0.57        1.43  \n",
      "HistGradientBoostingRegressor         0.57        5.43  \n",
      "BaggingRegressor                      0.59       38.37  \n",
      "XGBRegressor                          0.61        1.16  \n",
      "MLPRegressor                          0.62        9.36  \n",
      "GradientBoostingRegressor             0.65       38.38  \n",
      "KNeighborsRegressor                   0.65       40.94  \n",
      "SVR                                   0.66       23.89  \n",
      "NuSVR                                 0.68       65.68  \n",
      "OrthogonalMatchingPursuitCV           0.77        0.80  \n",
      "LassoLarsIC                           0.77        0.90  \n",
      "OrthogonalMatchingPursuit             0.77        0.23  \n",
      "LassoCV                               0.77       10.98  \n",
      "ElasticNetCV                          0.77       10.05  \n",
      "LassoLarsCV                           0.77        3.92  \n",
      "BayesianRidge                         0.77        0.69  \n",
      "RidgeCV                               0.78        0.55  \n",
      "GeneralizedLinearRegressor            0.78        0.29  \n",
      "TweedieRegressor                      0.78        0.19  \n",
      "Ridge                                 0.78        0.28  \n",
      "TransformedTargetRegressor            0.79        0.45  \n",
      "LinearRegression                      0.79        0.35  \n",
      "PoissonRegressor                      0.79        0.26  \n",
      "ExtraTreeRegressor                    0.80        0.63  \n",
      "DecisionTreeRegressor                 0.82        6.23  \n",
      "LassoLars                             0.84        0.25  \n",
      "Lasso                                 0.84        0.26  \n",
      "LarsCV                                0.84        2.79  \n",
      "ElasticNet                            0.84        0.27  \n",
      "DummyRegressor                        0.84        0.13  \n",
      "LinearSVR                             0.85       13.67  \n",
      "KernelRidge                           0.86        7.54  \n",
      "HuberRegressor                        0.86        1.70  \n",
      "GaussianProcessRegressor              0.91       44.99  \n",
      "AdaBoostRegressor                     0.96        8.21  \n",
      "PassiveAggressiveRegressor            1.02        0.29  \n",
      "Lars                             485781.72        0.59  \n",
      "SGDRegressor                  334097730.34        0.28  \n",
      "CPU times: user 42min 36s, sys: 30min 12s, total: 1h 12min 49s\n",
      "Wall time: 13min 3s\n"
     ]
    },
    {
     "name": "stderr",
     "output_type": "stream",
     "text": [
      "\n"
     ]
    }
   ],
   "source": [
    "%%time\n",
    "\n",
    "#reg = LazyClassifier(ignore_warnings=False, custom_metric=None)\n",
    "\n",
    "reg = LazyRegressor(ignore_warnings=False, custom_metric=None)\n",
    "N=10000\n",
    "models, predictions = reg.fit(X_train[:N], X_test[:N], y_train[:N], y_test[:N])\n",
    "print(models)"
   ]
  },
  {
   "cell_type": "code",
   "execution_count": 35,
   "id": "73d4c696",
   "metadata": {},
   "outputs": [
    {
     "data": {
      "text/html": [
       "<div>\n",
       "<style scoped>\n",
       "    .dataframe tbody tr th:only-of-type {\n",
       "        vertical-align: middle;\n",
       "    }\n",
       "\n",
       "    .dataframe tbody tr th {\n",
       "        vertical-align: top;\n",
       "    }\n",
       "\n",
       "    .dataframe thead th {\n",
       "        text-align: right;\n",
       "    }\n",
       "</style>\n",
       "<table border=\"1\" class=\"dataframe\">\n",
       "  <thead>\n",
       "    <tr style=\"text-align: right;\">\n",
       "      <th></th>\n",
       "      <th>Result</th>\n",
       "    </tr>\n",
       "  </thead>\n",
       "  <tbody>\n",
       "    <tr>\n",
       "      <th>30971</th>\n",
       "      <td>0</td>\n",
       "    </tr>\n",
       "    <tr>\n",
       "      <th>60077</th>\n",
       "      <td>0</td>\n",
       "    </tr>\n",
       "    <tr>\n",
       "      <th>29302</th>\n",
       "      <td>1</td>\n",
       "    </tr>\n",
       "    <tr>\n",
       "      <th>9438</th>\n",
       "      <td>4</td>\n",
       "    </tr>\n",
       "    <tr>\n",
       "      <th>30847</th>\n",
       "      <td>0</td>\n",
       "    </tr>\n",
       "    <tr>\n",
       "      <th>43344</th>\n",
       "      <td>0</td>\n",
       "    </tr>\n",
       "    <tr>\n",
       "      <th>37016</th>\n",
       "      <td>0</td>\n",
       "    </tr>\n",
       "    <tr>\n",
       "      <th>19194</th>\n",
       "      <td>0</td>\n",
       "    </tr>\n",
       "    <tr>\n",
       "      <th>32976</th>\n",
       "      <td>0</td>\n",
       "    </tr>\n",
       "    <tr>\n",
       "      <th>24200</th>\n",
       "      <td>2</td>\n",
       "    </tr>\n",
       "    <tr>\n",
       "      <th>60376</th>\n",
       "      <td>0</td>\n",
       "    </tr>\n",
       "    <tr>\n",
       "      <th>53197</th>\n",
       "      <td>0</td>\n",
       "    </tr>\n",
       "    <tr>\n",
       "      <th>52721</th>\n",
       "      <td>1</td>\n",
       "    </tr>\n",
       "    <tr>\n",
       "      <th>15951</th>\n",
       "      <td>1</td>\n",
       "    </tr>\n",
       "    <tr>\n",
       "      <th>9049</th>\n",
       "      <td>0</td>\n",
       "    </tr>\n",
       "    <tr>\n",
       "      <th>52609</th>\n",
       "      <td>0</td>\n",
       "    </tr>\n",
       "    <tr>\n",
       "      <th>4793</th>\n",
       "      <td>4</td>\n",
       "    </tr>\n",
       "    <tr>\n",
       "      <th>57658</th>\n",
       "      <td>0</td>\n",
       "    </tr>\n",
       "    <tr>\n",
       "      <th>51700</th>\n",
       "      <td>0</td>\n",
       "    </tr>\n",
       "    <tr>\n",
       "      <th>45450</th>\n",
       "      <td>0</td>\n",
       "    </tr>\n",
       "  </tbody>\n",
       "</table>\n",
       "</div>"
      ],
      "text/plain": [
       "       Result\n",
       "30971       0\n",
       "60077       0\n",
       "29302       1\n",
       "9438        4\n",
       "30847       0\n",
       "43344       0\n",
       "37016       0\n",
       "19194       0\n",
       "32976       0\n",
       "24200       2\n",
       "60376       0\n",
       "53197       0\n",
       "52721       1\n",
       "15951       1\n",
       "9049        0\n",
       "52609       0\n",
       "4793        4\n",
       "57658       0\n",
       "51700       0\n",
       "45450       0"
      ]
     },
     "execution_count": 35,
     "metadata": {},
     "output_type": "execute_result"
    }
   ],
   "source": [
    "y_train[110:130]"
   ]
  },
  {
   "cell_type": "code",
   "execution_count": 16,
   "id": "254514e6",
   "metadata": {},
   "outputs": [],
   "source": [
    "from xgboost import XGBClassifier\n",
    "xgb_classifier = OneVsRestClassifier(XGBClassifier())"
   ]
  },
  {
   "cell_type": "code",
   "execution_count": 17,
   "id": "40e698d1",
   "metadata": {},
   "outputs": [
    {
     "data": {
      "text/plain": [
       "OneVsRestClassifier(estimator=XGBClassifier(base_score=None, booster=None,\n",
       "                                            colsample_bylevel=None,\n",
       "                                            colsample_bynode=None,\n",
       "                                            colsample_bytree=None, gamma=None,\n",
       "                                            gpu_id=None, importance_type='gain',\n",
       "                                            interaction_constraints=None,\n",
       "                                            learning_rate=None,\n",
       "                                            max_delta_step=None, max_depth=None,\n",
       "                                            min_child_weight=None, missing=nan,\n",
       "                                            monotone_constraints=None,\n",
       "                                            n_estimators=100, n_jobs=None,\n",
       "                                            num_parallel_tree=None,\n",
       "                                            random_state=None, reg_alpha=None,\n",
       "                                            reg_lambda=None,\n",
       "                                            scale_pos_weight=None,\n",
       "                                            subsample=None, tree_method=None,\n",
       "                                            validate_parameters=None,\n",
       "                                            verbosity=None))"
      ]
     },
     "execution_count": 17,
     "metadata": {},
     "output_type": "execute_result"
    }
   ],
   "source": [
    "xgb_classifier.fit(training_inputs, training_outputs_labels)"
   ]
  },
  {
   "cell_type": "code",
   "execution_count": 18,
   "id": "3fc873ca",
   "metadata": {},
   "outputs": [],
   "source": [
    "training_outputs_labels_l = [np.argmax(training_outputs_labels.iloc[p,:]) for p in range(len(training_outputs_labels))]"
   ]
  },
  {
   "cell_type": "code",
   "execution_count": null,
   "id": "8acdf5ed",
   "metadata": {},
   "outputs": [],
   "source": [
    "evaluate(testing_outputs_labels_l, rf_predictions_labels, labels)\n",
    "xgb_predictions = [one_hot(p,z) for p in rf_predictions_labels]\n",
    "Image.fromarray(format_prediction(xgb_predictions))"
   ]
  },
  {
   "cell_type": "code",
   "execution_count": null,
   "id": "d85bf336",
   "metadata": {},
   "outputs": [],
   "source": []
  },
  {
   "cell_type": "code",
   "execution_count": 21,
   "id": "34bfe027",
   "metadata": {},
   "outputs": [
    {
     "data": {
      "text/plain": [
       "RandomForestClassifier()"
      ]
     },
     "execution_count": 21,
     "metadata": {},
     "output_type": "execute_result"
    }
   ],
   "source": [
    "from sklearn.ensemble import RandomForestClassifier\n",
    "rf_classifier = RandomForestClassifier()\n",
    "\n",
    "# Training the Random forest here\n",
    "rf_classifier.fit(X_train, y_train)#training_inputs, training_outputs_labels)"
   ]
  },
  {
   "cell_type": "code",
   "execution_count": 32,
   "id": "a1f13493",
   "metadata": {},
   "outputs": [],
   "source": [
    "rf_predictions = rf_classifier.predict(X_test)#testing_inputs)#input_histdf.iloc[N:,:])#training_inputs)\n",
    "rf_predictions_labels = [np.argmax(p) for p in rf_predictions]\n",
    "y_hat = rf_predictions #_labels"
   ]
  },
  {
   "cell_type": "code",
   "execution_count": 36,
   "id": "ce6924f0",
   "metadata": {},
   "outputs": [],
   "source": [
    "temp = np.array(y_test)#testing_outputs_labels)#histdf.iloc[N:,:])\n",
    "#y = temp\n",
    "#y\n",
    "#temp = np.array(histdf.iloc[:N,:])\n",
    "#histdf_labels = [np.argmax(p) for p in temp]\n",
    "y = temp#histdf_labels"
   ]
  },
  {
   "cell_type": "code",
   "execution_count": 37,
   "id": "4e96bfa4",
   "metadata": {},
   "outputs": [
    {
     "data": {
      "text/plain": [
       "array([[13060,    49,    15,     6],\n",
       "       [  285,  2299,    17,    31],\n",
       "       [   85,    82,   257,    24],\n",
       "       [   89,   235,    24,   207]])"
      ]
     },
     "execution_count": 37,
     "metadata": {},
     "output_type": "execute_result"
    }
   ],
   "source": [
    "confusion_matrix(y,y_hat)"
   ]
  },
  {
   "cell_type": "code",
   "execution_count": 38,
   "id": "ed3d0fee",
   "metadata": {},
   "outputs": [
    {
     "name": "stdout",
     "output_type": "stream",
     "text": [
      "This is for the \n",
      "              precision    recall  f1-score   support\n",
      "\n",
      "           0       0.97      0.99      0.98     13130\n",
      "           1       0.86      0.87      0.87      2632\n",
      "           2       0.82      0.57      0.68       448\n",
      "           4       0.77      0.37      0.50       555\n",
      "\n",
      "    accuracy                           0.94     16765\n",
      "   macro avg       0.86      0.70      0.76     16765\n",
      "weighted avg       0.94      0.94      0.94     16765\n",
      "\n"
     ]
    }
   ],
   "source": [
    "print(\"This is for the \")\n",
    "print(classification_report(y,y_hat))"
   ]
  },
  {
   "cell_type": "code",
   "execution_count": 99,
   "id": "2e2391ed",
   "metadata": {},
   "outputs": [],
   "source": [
    "modelETR = ExtraTreesRegressor() # 10 minutes\n",
    "modelXGBM = XGBRegressor()  # 10 seconds\n",
    "modelHGBR = HistGradientBoostingRegressor() # 14 seconds\n",
    "modelRF = RandomForestRegressor() # 54 minutes!\n",
    "modelLGBM = LGBMRegressor() # 2 seconds"
   ]
  },
  {
   "cell_type": "code",
   "execution_count": 138,
   "id": "6453cafe",
   "metadata": {},
   "outputs": [
    {
     "name": "stdout",
     "output_type": "stream",
     "text": [
      "CPU times: user 4min 34s, sys: 362 ms, total: 4min 35s\n",
      "Wall time: 6.41 s\n"
     ]
    },
    {
     "data": {
      "text/plain": [
       "HistGradientBoostingRegressor()"
      ]
     },
     "execution_count": 138,
     "metadata": {},
     "output_type": "execute_result"
    }
   ],
   "source": [
    "%%time\n",
    "# Takes 6 seconds\n",
    "#modelLGBM = LGBMRegressor()\n",
    "modelHGBR.fit(X_train, y_train)#features_train, labels_train)"
   ]
  },
  {
   "cell_type": "code",
   "execution_count": 62,
   "id": "dff7c605",
   "metadata": {},
   "outputs": [
    {
     "name": "stdout",
     "output_type": "stream",
     "text": [
      "CPU times: user 49.2 s, sys: 383 ms, total: 49.5 s\n",
      "Wall time: 1.67 s\n"
     ]
    },
    {
     "data": {
      "text/plain": [
       "LGBMRegressor()"
      ]
     },
     "execution_count": 62,
     "metadata": {},
     "output_type": "execute_result"
    }
   ],
   "source": [
    "%%time\n",
    "# Takes 2 seconds\n",
    "#modelLGBM = LGBMRegressor()\n",
    "modelLGBM.fit(X_train, y_train)#features_train, labels_train)"
   ]
  },
  {
   "cell_type": "code",
   "execution_count": 92,
   "id": "304d1870",
   "metadata": {},
   "outputs": [],
   "source": [
    "kf = KFold(n_splits =10,shuffle=True,random_state=160) # n_splits=10\n",
    "feats = pd.DataFrame({'features': X_train.columns})\n",
    "gbm_predictions = []\n",
    "cv_score_ = 0\n",
    "oof_preds = np.zeros((full_df.shape[0],))"
   ]
  },
  {
   "cell_type": "code",
   "execution_count": 71,
   "id": "a94a4083",
   "metadata": {},
   "outputs": [
    {
     "data": {
      "text/html": [
       "<div>\n",
       "<style scoped>\n",
       "    .dataframe tbody tr th:only-of-type {\n",
       "        vertical-align: middle;\n",
       "    }\n",
       "\n",
       "    .dataframe tbody tr th {\n",
       "        vertical-align: top;\n",
       "    }\n",
       "\n",
       "    .dataframe thead th {\n",
       "        text-align: right;\n",
       "    }\n",
       "</style>\n",
       "<table border=\"1\" class=\"dataframe\">\n",
       "  <thead>\n",
       "    <tr style=\"text-align: right;\">\n",
       "      <th></th>\n",
       "      <th>Result</th>\n",
       "    </tr>\n",
       "  </thead>\n",
       "  <tbody>\n",
       "    <tr>\n",
       "      <th>3264</th>\n",
       "      <td>0</td>\n",
       "    </tr>\n",
       "    <tr>\n",
       "      <th>34864</th>\n",
       "      <td>0</td>\n",
       "    </tr>\n",
       "    <tr>\n",
       "      <th>33490</th>\n",
       "      <td>0</td>\n",
       "    </tr>\n",
       "    <tr>\n",
       "      <th>18925</th>\n",
       "      <td>1</td>\n",
       "    </tr>\n",
       "    <tr>\n",
       "      <th>8534</th>\n",
       "      <td>0</td>\n",
       "    </tr>\n",
       "    <tr>\n",
       "      <th>...</th>\n",
       "      <td>...</td>\n",
       "    </tr>\n",
       "    <tr>\n",
       "      <th>43883</th>\n",
       "      <td>0</td>\n",
       "    </tr>\n",
       "    <tr>\n",
       "      <th>11261</th>\n",
       "      <td>0</td>\n",
       "    </tr>\n",
       "    <tr>\n",
       "      <th>25365</th>\n",
       "      <td>0</td>\n",
       "    </tr>\n",
       "    <tr>\n",
       "      <th>48056</th>\n",
       "      <td>0</td>\n",
       "    </tr>\n",
       "    <tr>\n",
       "      <th>59011</th>\n",
       "      <td>0</td>\n",
       "    </tr>\n",
       "  </tbody>\n",
       "</table>\n",
       "<p>50294 rows × 1 columns</p>\n",
       "</div>"
      ],
      "text/plain": [
       "       Result\n",
       "3264        0\n",
       "34864       0\n",
       "33490       0\n",
       "18925       1\n",
       "8534        0\n",
       "...       ...\n",
       "43883       0\n",
       "11261       0\n",
       "25365       0\n",
       "48056       0\n",
       "59011       0\n",
       "\n",
       "[50294 rows x 1 columns]"
      ]
     },
     "execution_count": 71,
     "metadata": {},
     "output_type": "execute_result"
    }
   ],
   "source": []
  },
  {
   "cell_type": "code",
   "execution_count": 100,
   "id": "4fcb17ad",
   "metadata": {},
   "outputs": [],
   "source": [
    "XX = X_train\n",
    "yy = y_train"
   ]
  },
  {
   "cell_type": "code",
   "execution_count": null,
   "id": "af541c08",
   "metadata": {},
   "outputs": [],
   "source": []
  },
  {
   "cell_type": "code",
   "execution_count": null,
   "id": "d2cd26da",
   "metadata": {},
   "outputs": [],
   "source": []
  },
  {
   "cell_type": "code",
   "execution_count": 101,
   "id": "b55edeab",
   "metadata": {},
   "outputs": [
    {
     "name": "stdout",
     "output_type": "stream",
     "text": [
      "######### FOLD 1 / 10 \n",
      "45264 45264\n",
      "iter:  0 CV RMSE :  0.5753477279367962\n",
      "######### FOLD 2 / 10 \n",
      "45264 45264\n",
      "iter:  1 CV RMSE :  0.6277312889630838\n",
      "######### FOLD 3 / 10 \n",
      "45264 45264\n",
      "iter:  2 CV RMSE :  0.678916001081683\n",
      "######### FOLD 4 / 10 \n",
      "45264 45264\n",
      "iter:  3 CV RMSE :  0.7327823304628934\n",
      "######### FOLD 5 / 10 \n",
      "45265 45265\n",
      "iter:  4 CV RMSE :  0.7867908897191747\n",
      "######### FOLD 6 / 10 \n",
      "45265 45265\n",
      "iter:  5 CV RMSE :  0.8379145364082294\n",
      "######### FOLD 7 / 10 \n",
      "45265 45265\n",
      "iter:  6 CV RMSE :  0.8871166672009297\n",
      "######### FOLD 8 / 10 \n",
      "45265 45265\n",
      "iter:  7 CV RMSE :  0.9416863139881468\n",
      "######### FOLD 9 / 10 \n",
      "45265 45265\n",
      "iter:  8 CV RMSE :  0.993615949036049\n",
      "######### FOLD 10 / 10 \n",
      "45265 45265\n",
      "iter:  9 CV RMSE :  1.0483813124478725\n",
      "CV RMSE :  1.0483813124478725\n",
      "CPU times: user 1h 17min 34s, sys: 4min 12s, total: 1h 21min 47s\n",
      "Wall time: 1min 43s\n"
     ]
    }
   ],
   "source": [
    "%%time\n",
    "\n",
    "gbm_score = 0\n",
    "for i,(tr_index,test_index) in enumerate(kf.split(XX,yy)):\n",
    "  \n",
    "  #print(tr_index)\n",
    "  print(f'######### FOLD {i+1} / {kf.n_splits} ')\n",
    "  \n",
    "  XX_train,yy_train = XX.iloc[tr_index,:],yy.iloc[tr_index]\n",
    "  #tempX = XX.loc[XX.index.intersection(tr_index),:]  \n",
    "  #tempX = X.reindex[tr_index,:]\n",
    "  #tempy = yy.loc[yy.index.intersection(tr_index)] \n",
    "  #XX_train, yy_train = tempX, tempy\n",
    "  #tips_filtered = tips_df.reindex(columns = filtered_columns).\n",
    "\n",
    "  XX_test,yy_test = XX.iloc[test_index,:],yy.iloc[test_index]\n",
    "  #tempX = XX.loc[XX.index.intersection(test_index),:] \n",
    "  #tempy = yy.loc[yy.index.intersection(test_index)] \n",
    "  #XX_test, yy_test = tempX, tempy\n",
    "  \n",
    "  #gbm = xgb.ExtraTreesRegressor(eval_metric = 'rmse',n_estimators = 2000,learning_rate = 0.01,seed=162,random_state = 162,colsample_bytree=0.65)\n",
    "  #gbm = xgb.XGBRegressor(eval_metric = 'rmse',n_estimators = 2000,learning_rate = 0.01,seed=162,random_state = 162,colsample_bytree=0.65)\n",
    "  # WORKED gbm = lgb.LGBMClassifier(eval_metric = 'rmse',n_estimators = 2000,learning_rate = 0.01,seed=162,random_state = 162,colsample_bytree=0.65)\n",
    "\n",
    "  #gbm = xgb.LGBMRegressor(eval_metric = 'rmse',n_estimators = 2000,learning_rate = 0.01,seed=162,random_state = 162,colsample_bytree=0.65)\n",
    "  # WORKED with below fit gbm = ExtraTreesRegressor(n_estimators = 2000,random_state = 162)\n",
    "  # WORKED with above gbm.fit(X_train, y_train)\n",
    "  #gbm = #ExtraTreesClassifier(n_estimators=10, random_state=42)\n",
    "  gbm=modelHGBR# parallel CV=0.17 2min for 10 folds\n",
    "  #gbm=modelXGBM# Parallel. CV = 0.35 2 min for 10 folds\n",
    "  #gbm=modelLGBM# Parallel. CV = 0.52 0.5 min for 10 folds\n",
    "  #gbm=LGBMRegressor()\n",
    "  #gbm=modelETR# single thread. CV = 0.29 15 min for 2 folds\n",
    "  print(len(XX_train), len(yy_train))\n",
    "  gbm.fit(XX_train,yy_train)\n",
    "\n",
    "  #gbm.fit(X_train,y_train,eval_set = [(X_test, y_test)],early_stopping_rounds  = 200,verbose=100)\n",
    "  \n",
    "  #gbm.fit(X_train,y_train,eval_set = [(X_test, y_test)],early_stopping_rounds  = 200,verbose=100)\n",
    "  \n",
    "  gbm_score += gbm.score(XX_test, yy_test)/ kf.n_splits\n",
    "  cv_score_ += mean_squared_error(yy_test, gbm.predict(XX_test), squared=False) / kf.n_splits\n",
    "  #oof_preds[test_index] = gbm.predict(X_test)\n",
    "  \n",
    "  #preds = gbm.predict(nnfielddfNC[X_train.columns])\n",
    "  #gbm_predictions.append(preds)\n",
    "  print('iter: ',i,'CV RMSE : ', cv_score_)\n",
    "    \n",
    "  #feats[f'Fold {i}'] = gbm.feature_importances_\n",
    "#feats['Importances'] = feats.mean(axis=1)\n",
    "print('CV RMSE : ', cv_score_)\n",
    "#preds_xgb = np.average(gbm_predictions, axis=0)\n",
    "#print(preds_xgb.shape)"
   ]
  },
  {
   "cell_type": "code",
   "execution_count": 102,
   "id": "90c229ad",
   "metadata": {},
   "outputs": [
    {
     "name": "stdout",
     "output_type": "stream",
     "text": [
      " CV RMSE :  1.0483813124478725\n",
      "()\n",
      "CV Accuracy is : 0.5903673159443066\n"
     ]
    }
   ],
   "source": [
    "feats['Importances'] = feats.mean(axis=1)\n",
    "print( ' CV RMSE : ',cv_score_)\n",
    "preds_xgb = np.average(gbm_predictions, axis=0)\n",
    "print(preds_xgb.shape)\n",
    "print(\"CV Accuracy is :\", gbm_score)"
   ]
  },
  {
   "cell_type": "code",
   "execution_count": 119,
   "id": "543f3be5",
   "metadata": {},
   "outputs": [],
   "source": [
    "predres = list(gbm.predict(X_test.iloc[:100,:]))\n",
    "trueres = list(y_test['Result'].iloc[:100])"
   ]
  },
  {
   "cell_type": "code",
   "execution_count": 134,
   "id": "9757eace",
   "metadata": {},
   "outputs": [
    {
     "data": {
      "text/plain": [
       "array([ 0.,  0.,  0.,  1.,  2.,  0.,  0.,  0.,  1., -0.,  0.,  0.,  0.,\n",
       "        1.,  0.,  0.,  0.,  0.,  1.,  0.,  0.,  0.,  0.,  1.,  0.,  1.,\n",
       "        3.,  0.,  0.,  0.])"
      ]
     },
     "execution_count": 134,
     "metadata": {},
     "output_type": "execute_result"
    }
   ],
   "source": [
    "np.round(predres[:30])"
   ]
  },
  {
   "cell_type": "code",
   "execution_count": 135,
   "id": "cc97a594",
   "metadata": {},
   "outputs": [
    {
     "data": {
      "text/plain": [
       "61623    0\n",
       "57263    0\n",
       "41088    0\n",
       "16056    1\n",
       "15632    4\n",
       "38069    0\n",
       "48628    0\n",
       "40268    0\n",
       "66414    0\n",
       "35555    0\n",
       "41800    0\n",
       "47294    0\n",
       "20588    0\n",
       "38445    4\n",
       "8333     0\n",
       "6059     0\n",
       "63636    0\n",
       "37602    0\n",
       "23961    1\n",
       "45095    0\n",
       "61480    0\n",
       "60020    0\n",
       "35453    0\n",
       "2283     1\n",
       "25667    0\n",
       "11847    1\n",
       "24297    4\n",
       "57083    0\n",
       "34853    0\n",
       "47236    0\n",
       "Name: Result, dtype: int64"
      ]
     },
     "execution_count": 135,
     "metadata": {},
     "output_type": "execute_result"
    }
   ],
   "source": [
    "trueres.iloc[:30]"
   ]
  },
  {
   "cell_type": "code",
   "execution_count": 142,
   "id": "b4cade95",
   "metadata": {},
   "outputs": [
    {
     "name": "stdout",
     "output_type": "stream",
     "text": [
      "Correct:  14891 . Incorrect:  1874\n"
     ]
    }
   ],
   "source": [
    "#row = [[2.02220122, 0.31563495, 0.82797464, -0.30620401, 0.16003707, -1.44411381, 0.87616892, -0.50446586, 0.23009474, 0.76201118]]\n",
    "#k=17686\n",
    "sumcorrect=0\n",
    "sumincorrect=0\n",
    "eps=0.01\n",
    "N=len(y_test)\n",
    "predres = modelHGBR.predict(X_test.iloc[:N,:])\n",
    "trueres = y_test['Result'].iloc[:N]\n",
    "for k in range(N):#range(16797):\n",
    "    #row=X_test.iloc[k,:]\n",
    "    #trueres[k]#=y_test.iloc[k]\n",
    "    #predres=gbm.predict(row)\n",
    "    #print(\"true\", trueres, \"pred\", predres)\n",
    "    if abs(trueres.iloc[k]-np.round(predres[k]))<eps:\n",
    "        sumcorrect+=1 \n",
    "    else:\n",
    "        sumincorrect+=1\n",
    "print(\"Correct: \",sumcorrect,\". Incorrect: \",sumincorrect)        \n",
    "#print(y_train.iloc[k])"
   ]
  },
  {
   "cell_type": "code",
   "execution_count": 143,
   "id": "042d4cd0",
   "metadata": {},
   "outputs": [
    {
     "name": "stdout",
     "output_type": "stream",
     "text": [
      "missclassification rate =  0.12584782754684037\n"
     ]
    }
   ],
   "source": [
    "print(\"missclassification rate = \", (sumincorrect)/sumcorrect)"
   ]
  },
  {
   "cell_type": "code",
   "execution_count": 146,
   "id": "a9b0ef12",
   "metadata": {},
   "outputs": [],
   "source": [
    "y=[]\n",
    "y_hat = []\n",
    "for k in trueres:\n",
    "    y.append(k)\n",
    "for k in predres:\n",
    "    y_hat.append(np.round(k))"
   ]
  },
  {
   "cell_type": "code",
   "execution_count": 147,
   "id": "16457c7f",
   "metadata": {},
   "outputs": [
    {
     "name": "stdout",
     "output_type": "stream",
     "text": [
      "This is for the \n",
      "              precision    recall  f1-score   support\n",
      "\n",
      "         0.0       0.96      0.98      0.97     13130\n",
      "         1.0       0.80      0.66      0.72      2632\n",
      "         2.0       0.23      0.47      0.31       448\n",
      "         3.0       0.00      0.00      0.00         0\n",
      "         4.0       0.86      0.03      0.07       555\n",
      "\n",
      "    accuracy                           0.89     16765\n",
      "   macro avg       0.57      0.43      0.41     16765\n",
      "weighted avg       0.91      0.89      0.89     16765\n",
      "\n"
     ]
    }
   ],
   "source": [
    "print(\"This is for the \")\n",
    "print(classification_report(y, y_hat))"
   ]
  },
  {
   "cell_type": "code",
   "execution_count": 148,
   "id": "82f0a697",
   "metadata": {},
   "outputs": [
    {
     "data": {
      "text/plain": [
       "array([[12918,   191,    18,     3,     0],\n",
       "       [  412,  1742,   450,    26,     2],\n",
       "       [   60,   142,   212,    33,     1],\n",
       "       [    0,     0,     0,     0,     0],\n",
       "       [   63,   115,   230,   128,    19]])"
      ]
     },
     "execution_count": 148,
     "metadata": {},
     "output_type": "execute_result"
    }
   ],
   "source": [
    "confusion_matrix(y,y_hat)"
   ]
  },
  {
   "cell_type": "code",
   "execution_count": null,
   "id": "8f14f9ce",
   "metadata": {},
   "outputs": [],
   "source": [
    "run separately\n",
    "from sklearn.linear_model import LogisticRegression\n",
    "from sklearn.tree import DecisionTreeClassifier\n",
    "from sklearn.ensemble import RandomForestClassifier\n",
    "from xgboost import XGBClassifier\n",
    "\n",
    "model_lr = LogisticRegression().fit(X_train, y_train)\n",
    "probs_lr = model_lr.predict_proba(X_test)[:, 1]\n",
    "\n",
    "model_dt = DecisionTreeClassifier().fit(X_train, y_train)\n",
    "probs_dt = model_dt.predict_proba(X_test)[:, 1]\n",
    "\n",
    "model_rf = RandomForestClassifier().fit(X_train, y_train)\n",
    "probs_rf = model_rf.predict_proba(X_test)[:, 1]\n",
    "\n",
    "model_xg = XGBClassifier().fit(X_train, y_train)\n",
    "probs_xg = model_xg.predict_proba(X_test)[:, 1]"
   ]
  },
  {
   "cell_type": "code",
   "execution_count": null,
   "id": "bf871d01",
   "metadata": {},
   "outputs": [],
   "source": [
    "from sklearn.metrics import auc, precision_recall_curve\n",
    "\n",
    "y_test_int = y_test#.replace({'Good': 1, 'Bad': 0})\n",
    "\n",
    "baseline_model = sum(y_test_int == 1) / len(y_test_int)\n",
    "\n",
    "precision_lr, recall_lr, _ = precision_recall_curve(y_test_int, probs_lr)\n",
    "auc_lr = auc(recall_lr, precision_lr)\n",
    "\n",
    "precision_dt, recall_dt, _ = precision_recall_curve(y_test_int, probs_dt)\n",
    "auc_dt = auc(recall_dt, precision_dt)\n",
    "\n",
    "precision_rf, recall_rf, _ = precision_recall_curve(y_test_int, probs_rf)\n",
    "auc_rf = auc(recall_rf, precision_rf)\n",
    "\n",
    "precision_xg, recall_xg, _ = precision_recall_curve(y_test_int, probs_xg)\n",
    "auc_xg = auc(recall_xg, precision_xg)\n"
   ]
  },
  {
   "cell_type": "code",
   "execution_count": null,
   "id": "3a2e32c8",
   "metadata": {},
   "outputs": [],
   "source": [
    "plt.figure(figsize=(12, 7))\n",
    "plt.plot([0, 1], [baseline_model, baseline_model], linestyle='--', label='Baseline model')\n",
    "plt.plot(recall_lr, precision_lr, label=f'AUC (Logistic Regression) = {auc_lr:.2f}')\n",
    "plt.plot(recall_dt, precision_dt, label=f'AUC (Decision Tree) = {auc_dt:.2f}')\n",
    "plt.plot(recall_rf, precision_rf, label=f'AUC (Random Forests) = {auc_rf:.2f}')\n",
    "plt.plot(recall_xg, precision_xg, label=f'AUC (XGBoost) = {auc_xg:.2f}')\n",
    "plt.title('Precision-Recall Curve', size=20)\n",
    "plt.xlabel('Recall', size=14)\n",
    "plt.ylabel('Precision', size=14)\n",
    "plt.legend();"
   ]
  }
 ],
 "metadata": {
  "kernelspec": {
   "display_name": "Python 3 (ipykernel)",
   "language": "python",
   "name": "python3"
  },
  "language_info": {
   "codemirror_mode": {
    "name": "ipython",
    "version": 3
   },
   "file_extension": ".py",
   "mimetype": "text/x-python",
   "name": "python",
   "nbconvert_exporter": "python",
   "pygments_lexer": "ipython3",
   "version": "3.8.10"
  }
 },
 "nbformat": 4,
 "nbformat_minor": 5
}
